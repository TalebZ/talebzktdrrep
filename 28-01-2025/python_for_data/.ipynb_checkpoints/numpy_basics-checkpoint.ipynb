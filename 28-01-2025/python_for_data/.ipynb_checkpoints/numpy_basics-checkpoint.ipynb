{
 "cells": [
  {
   "cell_type": "markdown",
   "id": "7b215a7c-fd8d-42f3-87ba-8e248eba5a0c",
   "metadata": {},
   "source": [
    "# Numpy"
   ]
  },
  {
   "cell_type": "markdown",
   "id": "14efb398-f157-4c5d-b7c9-ab00ebc7b0cf",
   "metadata": {},
   "source": [
    "Numpy is a library which provides support for large, homogeneous, multi-dimensional arrays and matrices"
   ]
  },
  {
   "cell_type": "code",
   "execution_count": 6,
   "id": "2f95ee76-f7be-401d-a3d3-b50452eab198",
   "metadata": {},
   "outputs": [],
   "source": [
    "# import numpy\n",
    "import numpy as np"
   ]
  },
  {
   "cell_type": "markdown",
   "id": "a2225560-aeaf-4ee6-9ce7-7e0cad5007a8",
   "metadata": {},
   "source": [
    "## Creating Arrays in Numpy\n",
    "### Creating an array from a list"
   ]
  },
  {
   "cell_type": "code",
   "execution_count": 3,
   "id": "e3f3819f-69cd-474a-baef-c3fbe8676482",
   "metadata": {},
   "outputs": [
    {
     "data": {
      "text/plain": [
       "[10, 20, 30]"
      ]
     },
     "execution_count": 3,
     "metadata": {},
     "output_type": "execute_result"
    }
   ],
   "source": [
    "list1 = [10,20,30]\n",
    "list1"
   ]
  },
  {
   "cell_type": "code",
   "execution_count": 7,
   "id": "9d71f5a9-6664-4769-a945-2fc08c79fb67",
   "metadata": {},
   "outputs": [
    {
     "data": {
      "text/plain": [
       "array([10, 20, 30])"
      ]
     },
     "execution_count": 7,
     "metadata": {},
     "output_type": "execute_result"
    }
   ],
   "source": [
    "arr1 = np.array(list1)\n",
    "arr1"
   ]
  },
  {
   "cell_type": "code",
   "execution_count": 8,
   "id": "972f77c1-2aa6-4306-9aab-a5ecc51f705e",
   "metadata": {},
   "outputs": [
    {
     "data": {
      "text/plain": [
       "numpy.ndarray"
      ]
     },
     "execution_count": 8,
     "metadata": {},
     "output_type": "execute_result"
    }
   ],
   "source": [
    "type(arr1)"
   ]
  },
  {
   "cell_type": "markdown",
   "id": "a810570c-196e-4001-b1ec-54e639abc00a",
   "metadata": {},
   "source": [
    "## Using arrange to create an array\n",
    "The difference between an array and arange is that array takes in a list and turns it into an array, whereas arrange creates and array from a range of numbers"
   ]
  },
  {
   "cell_type": "code",
   "execution_count": 12,
   "id": "7973b6cb-36f1-4993-8f00-dde3bfe2cd00",
   "metadata": {},
   "outputs": [
    {
     "data": {
      "text/plain": [
       "array([10, 11, 12, 13, 14, 15, 16, 17, 18, 19])"
      ]
     },
     "execution_count": 12,
     "metadata": {},
     "output_type": "execute_result"
    }
   ],
   "source": [
    "arr2 = np.arange(10,20, 1)  # (start, stop, step-size)\n",
    "arr2 "
   ]
  },
  {
   "cell_type": "markdown",
   "id": "4eb16c32-e2b3-49fc-91fd-c584c8d64b15",
   "metadata": {},
   "source": [
    "## Multidimensional arrays\n",
    "### Combining two list - Two-dimensional arrays\n",
    "When we combine arrays together, we can add dimensions. Combining two arrays gives us a 2d array!\n",
    "This creates a matric for us on which we can perform matrix operations."
   ]
  },
  {
   "cell_type": "code",
   "execution_count": 13,
   "id": "e18788f4-4492-4e83-9759-03fedf32e7e2",
   "metadata": {},
   "outputs": [
    {
     "data": {
      "text/plain": [
       "array([[10, 20, 30],\n",
       "       [40, 50, 60]])"
      ]
     },
     "execution_count": 13,
     "metadata": {},
     "output_type": "execute_result"
    }
   ],
   "source": [
    "# Let's create a new list to join onto the first list\n",
    "list2 = [40,50,60]\n",
    "\n",
    "#Join the lists\n",
    "list3 = [list1, list2]\n",
    "\n",
    "# Create an array out of the joined lists\n",
    "arr3 = np.array(list3)\n",
    "arr3"
   ]
  },
  {
   "cell_type": "code",
   "execution_count": 14,
   "id": "2c139f34-beca-44a5-a870-4700b7b7958c",
   "metadata": {},
   "outputs": [
    {
     "data": {
      "text/plain": [
       "(2, 3)"
      ]
     },
     "execution_count": 14,
     "metadata": {},
     "output_type": "execute_result"
    }
   ],
   "source": [
    "# Let's find the shape of that array\n",
    "# We have a 2d array with 2 elements in the first instance adn 3 in the second\n",
    "arr3.shape"
   ]
  },
  {
   "cell_type": "markdown",
   "id": "d7eaa70e-7fe3-44df-81bc-7507e5687999",
   "metadata": {},
   "source": [
    "### Three-dimensional arrays"
   ]
  },
  {
   "cell_type": "code",
   "execution_count": 16,
   "id": "e11ef1fa-fd10-4187-a2cc-664a8456a8a1",
   "metadata": {},
   "outputs": [
    {
     "data": {
      "text/plain": [
       "array([[[1, 2, 3],\n",
       "        [3, 4, 5]],\n",
       "\n",
       "       [[5, 6, 7],\n",
       "        [7, 8, 9]]])"
      ]
     },
     "execution_count": 16,
     "metadata": {},
     "output_type": "execute_result"
    }
   ],
   "source": [
    "arr3dim = np.array([[[1,2,3],[3,4,5]],[[5,6,7],[7,8,9]]])\n",
    "arr3dim"
   ]
  },
  {
   "cell_type": "code",
   "execution_count": 17,
   "id": "9d524a3d-6ee6-45aa-8771-2a839be4044b",
   "metadata": {},
   "outputs": [
    {
     "data": {
      "text/plain": [
       "(2, 2, 3)"
      ]
     },
     "execution_count": 17,
     "metadata": {},
     "output_type": "execute_result"
    }
   ],
   "source": [
    "arr3dim.shape"
   ]
  },
  {
   "cell_type": "code",
   "execution_count": 18,
   "id": "1d2849da-ba6f-4223-9851-720feb6f29e8",
   "metadata": {},
   "outputs": [
    {
     "data": {
      "text/plain": [
       "array([[[ 3,  6,  9],\n",
       "        [ 9, 12, 15]],\n",
       "\n",
       "       [[15, 18, 21],\n",
       "        [21, 24, 27]]])"
      ]
     },
     "execution_count": 18,
     "metadata": {},
     "output_type": "execute_result"
    }
   ],
   "source": [
    "arr3dim * 3"
   ]
  },
  {
   "cell_type": "code",
   "execution_count": 19,
   "id": "4762c757-9809-4aa3-a126-91d4ba8ba9a6",
   "metadata": {},
   "outputs": [
    {
     "data": {
      "text/plain": [
       "[10, 20, 30, 10, 20, 30, 10, 20, 30]"
      ]
     },
     "execution_count": 19,
     "metadata": {},
     "output_type": "execute_result"
    }
   ],
   "source": [
    "# How is this different than trying to do:\n",
    "list1 * 3\n",
    "# Lists and arrays are treated differently, see below"
   ]
  },
  {
   "cell_type": "code",
   "execution_count": 21,
   "id": "d54c41bf-41c0-4b08-9ef2-f94242987632",
   "metadata": {},
   "outputs": [
    {
     "data": {
      "text/plain": [
       "array([ 400, 1000, 1800])"
      ]
     },
     "execution_count": 21,
     "metadata": {},
     "output_type": "execute_result"
    }
   ],
   "source": [
    "# We can actually multiply an array with another array\n",
    "\n",
    "# Create a new array with the same size as arr1\n",
    "arr11 = np.array(list2)\n",
    "\n",
    "#multiply the arrays, what will happen?\n",
    "arr1 * arr11"
   ]
  },
  {
   "cell_type": "markdown",
   "id": "83c1201f-4d69-4412-ac9c-2f65d8e90a52",
   "metadata": {},
   "source": [
    "### Can we multiply arrays of different shapes?"
   ]
  },
  {
   "cell_type": "code",
   "execution_count": 23,
   "id": "5a51be60-5ccf-4fa0-8362-165a7a485604",
   "metadata": {},
   "outputs": [
    {
     "ename": "ValueError",
     "evalue": "operands could not be broadcast together with shapes (3,) (10,) ",
     "output_type": "error",
     "traceback": [
      "\u001b[1;31m---------------------------------------------------------------------------\u001b[0m",
      "\u001b[1;31mValueError\u001b[0m                                Traceback (most recent call last)",
      "Cell \u001b[1;32mIn[23], line 1\u001b[0m\n\u001b[1;32m----> 1\u001b[0m \u001b[43marr1\u001b[49m\u001b[43m \u001b[49m\u001b[38;5;241;43m*\u001b[39;49m\u001b[43m \u001b[49m\u001b[43marr2\u001b[49m\n",
      "\u001b[1;31mValueError\u001b[0m: operands could not be broadcast together with shapes (3,) (10,) "
     ]
    }
   ],
   "source": [
    "arr1 * arr2"
   ]
  },
  {
   "cell_type": "markdown",
   "id": "ea47de17-f881-45fc-a888-3a3748609139",
   "metadata": {},
   "source": [
    "The answer is NO!"
   ]
  },
  {
   "cell_type": "markdown",
   "id": "8eacb4fe-81fb-4680-a6fb-5aea48e63909",
   "metadata": {},
   "source": [
    "### Array practice"
   ]
  },
  {
   "cell_type": "markdown",
   "id": "21706b83-e04d-4a90-863e-a3be749940c8",
   "metadata": {},
   "source": [
    "Complete the following task: One dimensional array with 12 elements (12,)\n",
    "Two dimensional array size (3, 4)\n",
    "Three dimensional array size (2, 5, 4)\n",
    "Check the size of your ndarray to ensure it is correct"
   ]
  },
  {
   "cell_type": "markdown",
   "id": "140a906a-076d-4f4c-ae34-3bbf8802c0d2",
   "metadata": {},
   "source": [
    "### Accessing the values inside ndarrays\n",
    "\n",
    "Let's take arr3 as our example, this was a 2d array"
   ]
  },
  {
   "cell_type": "code",
   "execution_count": 44,
   "id": "a42af83d-498d-45e5-a399-ebb9f8151034",
   "metadata": {},
   "outputs": [
    {
     "data": {
      "text/plain": [
       "array([[10, 20, 30],\n",
       "       [40, 50, 60]])"
      ]
     },
     "execution_count": 44,
     "metadata": {},
     "output_type": "execute_result"
    }
   ],
   "source": [
    "# How can we access the 60?\n",
    "arr3"
   ]
  },
  {
   "cell_type": "code",
   "execution_count": 46,
   "id": "afb3c739-b18f-4481-a2f2-5d2fb9546933",
   "metadata": {},
   "outputs": [
    {
     "data": {
      "text/plain": [
       "np.int64(60)"
      ]
     },
     "execution_count": 46,
     "metadata": {},
     "output_type": "execute_result"
    }
   ],
   "source": [
    "# We can use indexing\n",
    "arr3[1][2]\n",
    "\n",
    "# We can just use a comma\n",
    "arr3[1,2]\n",
    "\n",
    "# Remember when indexing we count starting from 0"
   ]
  },
  {
   "cell_type": "code",
   "execution_count": 47,
   "id": "93864c5e-40c3-4398-b757-dcc9a27e233b",
   "metadata": {},
   "outputs": [
    {
     "data": {
      "text/plain": [
       "array([40, 50, 60])"
      ]
     },
     "execution_count": 47,
     "metadata": {},
     "output_type": "execute_result"
    }
   ],
   "source": [
    "# How can i get the bottom \"row\" of this ndarray?\n",
    "arr3[1]"
   ]
  },
  {
   "cell_type": "code",
   "execution_count": 48,
   "id": "b636b06a-db1a-45c8-89d2-5509dd37a20f",
   "metadata": {},
   "outputs": [
    {
     "data": {
      "text/plain": [
       "array([30, 60])"
      ]
     },
     "execution_count": 48,
     "metadata": {},
     "output_type": "execute_result"
    }
   ],
   "source": [
    "#How about if we want the last column!\n",
    "arr3[:,2]"
   ]
  },
  {
   "cell_type": "markdown",
   "id": "c11b93d1-bd94-4fef-a330-6b4731d948f8",
   "metadata": {},
   "source": [
    "## Statistical functions and arrays\n",
    "There are a number of built in statistical functions we can use with numpy"
   ]
  },
  {
   "cell_type": "code",
   "execution_count": 50,
   "id": "4ad5fef6-15ec-4aa9-a0b5-614477283da3",
   "metadata": {},
   "outputs": [
    {
     "data": {
      "text/plain": [
       "np.int64(210)"
      ]
     },
     "execution_count": 50,
     "metadata": {},
     "output_type": "execute_result"
    }
   ],
   "source": [
    "# Finding the sum of all values\n",
    "arr3.sum()"
   ]
  },
  {
   "cell_type": "code",
   "execution_count": 51,
   "id": "0194ca8d-3da5-4b12-a17f-35ce0e05b57d",
   "metadata": {},
   "outputs": [
    {
     "data": {
      "text/plain": [
       "array([50, 70, 90])"
      ]
     },
     "execution_count": 51,
     "metadata": {},
     "output_type": "execute_result"
    }
   ],
   "source": [
    "# Finding the sum of all columns\n",
    "arr3.sum(0)"
   ]
  },
  {
   "cell_type": "code",
   "execution_count": 52,
   "id": "a37552a2-0683-4856-9623-fcbb91417cf1",
   "metadata": {},
   "outputs": [
    {
     "data": {
      "text/plain": [
       "array([ 60, 150])"
      ]
     },
     "execution_count": 52,
     "metadata": {},
     "output_type": "execute_result"
    }
   ],
   "source": [
    "#Finding the sym of all rows\n",
    "arr3.sum(1)"
   ]
  },
  {
   "cell_type": "code",
   "execution_count": 53,
   "id": "ae456bb4-6347-4b35-80c9-6d60307a7c05",
   "metadata": {},
   "outputs": [
    {
     "data": {
      "text/plain": [
       "np.float64(35.0)"
      ]
     },
     "execution_count": 53,
     "metadata": {},
     "output_type": "execute_result"
    }
   ],
   "source": [
    "# Finding the mean\n",
    "arr3.mean()"
   ]
  },
  {
   "cell_type": "code",
   "execution_count": 54,
   "id": "82cfc2f0-e94b-4bc0-b6ce-b7032de01427",
   "metadata": {},
   "outputs": [
    {
     "data": {
      "text/plain": [
       "np.float64(17.07825127659933)"
      ]
     },
     "execution_count": 54,
     "metadata": {},
     "output_type": "execute_result"
    }
   ],
   "source": [
    "# Finding the standard deviation\n",
    "arr3.std()"
   ]
  },
  {
   "cell_type": "code",
   "execution_count": 55,
   "id": "f26d5862-116d-40b6-9fae-ca663db63109",
   "metadata": {},
   "outputs": [
    {
     "data": {
      "text/plain": [
       "np.float64(291.6666666666667)"
      ]
     },
     "execution_count": 55,
     "metadata": {},
     "output_type": "execute_result"
    }
   ],
   "source": [
    "# Finding variance\n",
    "arr3.var()"
   ]
  },
  {
   "cell_type": "code",
   "execution_count": 56,
   "id": "82913545-ef00-4bf3-a5ed-135baee0b8a1",
   "metadata": {},
   "outputs": [
    {
     "data": {
      "text/plain": [
       "np.int64(10)"
      ]
     },
     "execution_count": 56,
     "metadata": {},
     "output_type": "execute_result"
    }
   ],
   "source": [
    "# Finding minimum value\n",
    "arr3.min()"
   ]
  },
  {
   "cell_type": "code",
   "execution_count": 57,
   "id": "ac95403b-9d3f-4dfd-8ead-7439acc7628f",
   "metadata": {},
   "outputs": [
    {
     "data": {
      "text/plain": [
       "np.int64(60)"
      ]
     },
     "execution_count": 57,
     "metadata": {},
     "output_type": "execute_result"
    }
   ],
   "source": [
    "# Finding max value\n",
    "arr3.max()"
   ]
  },
  {
   "cell_type": "markdown",
   "id": "2d57a312-d70d-476c-8628-664457f673a6",
   "metadata": {},
   "source": [
    "## Iterating through ndarrays\n",
    "\n",
    "Simplest way is to use a simple loop"
   ]
  },
  {
   "cell_type": "code",
   "execution_count": 58,
   "id": "b4a02ca3-aa1a-4eed-9766-2f667aeef73b",
   "metadata": {},
   "outputs": [
    {
     "name": "stdout",
     "output_type": "stream",
     "text": [
      "10\n",
      "20\n",
      "30\n"
     ]
    }
   ],
   "source": [
    "# For a 1d array\n",
    "for x in arr1:\n",
    "    print(x)"
   ]
  },
  {
   "cell_type": "code",
   "execution_count": 59,
   "id": "9578ed5c-98c5-44e7-a0b8-983e11463566",
   "metadata": {},
   "outputs": [
    {
     "name": "stdout",
     "output_type": "stream",
     "text": [
      "10\n",
      "20\n",
      "30\n",
      "40\n",
      "50\n",
      "60\n"
     ]
    }
   ],
   "source": [
    "# How about an n-dimensional array? Use nested loops\n",
    "for dim in arr3:\n",
    "    for num in dim:\n",
    "        print(num)"
   ]
  },
  {
   "cell_type": "code",
   "execution_count": 61,
   "id": "8693e442-aadf-42dd-bb15-5488b15dcee1",
   "metadata": {},
   "outputs": [
    {
     "name": "stdout",
     "output_type": "stream",
     "text": [
      "10\n",
      "20\n",
      "30\n",
      "40\n",
      "50\n",
      "60\n"
     ]
    }
   ],
   "source": [
    "# There is another way! we can use nditer\n",
    "# This can be used in simple scenarios, but also very complex ones\n",
    "# It tends to be much cleaner for nested loops\n",
    "for x in np.nditer(arr3):\n",
    "    print(x)"
   ]
  },
  {
   "cell_type": "markdown",
   "id": "2cdf938a-4352-4750-abcb-dffceedca845",
   "metadata": {},
   "source": [
    "### Saving and loading in numpy"
   ]
  },
  {
   "cell_type": "code",
   "execution_count": null,
   "id": "1f68be04-94c2-4b97-af70-a92928ea7e04",
   "metadata": {},
   "outputs": [],
   "source": []
  }
 ],
 "metadata": {
  "kernelspec": {
   "display_name": "Python 3 (ipykernel)",
   "language": "python",
   "name": "python3"
  },
  "language_info": {
   "codemirror_mode": {
    "name": "ipython",
    "version": 3
   },
   "file_extension": ".py",
   "mimetype": "text/x-python",
   "name": "python",
   "nbconvert_exporter": "python",
   "pygments_lexer": "ipython3",
   "version": "3.13.1"
  }
 },
 "nbformat": 4,
 "nbformat_minor": 5
}
