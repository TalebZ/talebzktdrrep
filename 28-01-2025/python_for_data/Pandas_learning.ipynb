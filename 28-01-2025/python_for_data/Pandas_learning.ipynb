{
 "cells": [
  {
   "cell_type": "markdown",
   "id": "2b70bafa-dcea-4e9a-92a8-1bb87ef2433d",
   "metadata": {},
   "source": [
    "# Introduction to Pandas\n",
    "Pandas is a high-level data manipulation package which was built on top of Numpy. The key structures within pandas include series and Dataframes"
   ]
  },
  {
   "cell_type": "markdown",
   "id": "366a81b4-0244-44f4-890c-6627a23b230c",
   "metadata": {},
   "source": [
    "## Series\n",
    "\n",
    "A Series is a one-dimensional array with axis labels (an index)."
   ]
  },
  {
   "cell_type": "code",
   "execution_count": 2,
   "id": "58b8ca12-f2a0-4f90-ae75-cd6569ea7f8b",
   "metadata": {},
   "outputs": [],
   "source": [
    "# Importing libraries and packages\n",
    "import numpy as np\n",
    "import pandas as pd\n",
    "from pandas import Series, DataFrame"
   ]
  },
  {
   "cell_type": "code",
   "execution_count": 4,
   "id": "888e8a94-8cdd-4720-a084-ddbd8b5984e0",
   "metadata": {},
   "outputs": [
    {
     "data": {
      "text/plain": [
       "0    10\n",
       "1    20\n",
       "2    30\n",
       "3    40\n",
       "4    50\n",
       "dtype: int64"
      ]
     },
     "execution_count": 4,
     "metadata": {},
     "output_type": "execute_result"
    }
   ],
   "source": [
    "# Creating a Series from a list\n",
    "x = pd.Series([10,20,30,40,50])\n",
    "x"
   ]
  },
  {
   "cell_type": "code",
   "execution_count": 5,
   "id": "c2afff1e-bfae-4420-a478-c3f407472a66",
   "metadata": {},
   "outputs": [
    {
     "data": {
      "text/plain": [
       "RangeIndex(start=0, stop=5, step=1)"
      ]
     },
     "execution_count": 5,
     "metadata": {},
     "output_type": "execute_result"
    }
   ],
   "source": [
    "# We can access different components separately:\n",
    "\n",
    "# Accessing the index\n",
    "x.index"
   ]
  },
  {
   "cell_type": "code",
   "execution_count": 6,
   "id": "931bf7be-fdc6-452c-9f6f-3f0e2628900f",
   "metadata": {},
   "outputs": [
    {
     "data": {
      "text/plain": [
       "array([10, 20, 30, 40, 50])"
      ]
     },
     "execution_count": 6,
     "metadata": {},
     "output_type": "execute_result"
    }
   ],
   "source": [
    "# Accessing values\n",
    "x.values"
   ]
  },
  {
   "cell_type": "code",
   "execution_count": 7,
   "id": "3fd143c8-b006-4be4-b15e-09f9b4d71acd",
   "metadata": {},
   "outputs": [
    {
     "data": {
      "text/plain": [
       "dtype('int64')"
      ]
     },
     "execution_count": 7,
     "metadata": {},
     "output_type": "execute_result"
    }
   ],
   "source": [
    "# Accessing the datatype\n",
    "# A Series is an ndarray, thus it's homogeneous and CANNOT store multiple datatypes\n",
    "x.dtype"
   ]
  },
  {
   "cell_type": "code",
   "execution_count": 8,
   "id": "334a2187-2363-4d2b-8ff3-2cb8021717b5",
   "metadata": {},
   "outputs": [
    {
     "data": {
      "text/plain": [
       "Don      450\n",
       "Mike     650\n",
       "Edwin    870\n",
       "dtype: int64"
      ]
     },
     "execution_count": 8,
     "metadata": {},
     "output_type": "execute_result"
    }
   ],
   "source": [
    "# Creating a series with an Index\n",
    "data = [450, 650, 870]\n",
    "Sales = Series(data, index=[\"Don\", \"Mike\", \"Edwin\"])\n",
    "Sales"
   ]
  },
  {
   "cell_type": "code",
   "execution_count": 10,
   "id": "cfd1c29d-c244-4396-893f-fcc8151fd24c",
   "metadata": {},
   "outputs": [
    {
     "data": {
      "text/plain": [
       "pandas.core.series.Series"
      ]
     },
     "execution_count": 10,
     "metadata": {},
     "output_type": "execute_result"
    }
   ],
   "source": [
    "# Check the type\n",
    "type(Sales)"
   ]
  },
  {
   "cell_type": "code",
   "execution_count": 11,
   "id": "554274d7-6dd6-4129-9ca8-a4efdb67a577",
   "metadata": {},
   "outputs": [
    {
     "data": {
      "text/plain": [
       "Index(['Don', 'Mike', 'Edwin'], dtype='object')"
      ]
     },
     "execution_count": 11,
     "metadata": {},
     "output_type": "execute_result"
    }
   ],
   "source": [
    "# If we check the index of Sales, we will get the values, rather than the range, because it's a string.\n",
    "Sales.index"
   ]
  },
  {
   "cell_type": "markdown",
   "id": "6b5dcf39-1d46-4bb1-b2d0-94b920ba0da0",
   "metadata": {},
   "source": [
    "### Accessing Values"
   ]
  },
  {
   "cell_type": "code",
   "execution_count": 12,
   "id": "a0b5013b-c0f0-4149-87d1-c93af1846ec4",
   "metadata": {},
   "outputs": [
    {
     "data": {
      "text/plain": [
       "np.int64(450)"
      ]
     },
     "execution_count": 12,
     "metadata": {},
     "output_type": "execute_result"
    }
   ],
   "source": [
    "# You can access values using the index name\n",
    "Sales[\"Don\"]"
   ]
  },
  {
   "cell_type": "code",
   "execution_count": 13,
   "id": "8fa1ecad-6163-4fbf-8203-13e8f1c9edfa",
   "metadata": {},
   "outputs": [
    {
     "name": "stderr",
     "output_type": "stream",
     "text": [
      "C:\\Users\\tzork\\AppData\\Local\\Temp\\ipykernel_23148\\3521589511.py:2: FutureWarning: Series.__getitem__ treating keys as positions is deprecated. In a future version, integer keys will always be treated as labels (consistent with DataFrame behavior). To access a value by position, use `ser.iloc[pos]`\n",
      "  Sales[0]\n"
     ]
    },
    {
     "data": {
      "text/plain": [
       "np.int64(450)"
      ]
     },
     "execution_count": 13,
     "metadata": {},
     "output_type": "execute_result"
    }
   ],
   "source": [
    "# You can still use traditional indexing\n",
    "Sales[0]"
   ]
  },
  {
   "cell_type": "markdown",
   "id": "17f8ffed-6132-4f38-b48c-47683bf7e65f",
   "metadata": {},
   "source": [
    "### Checking for conditions"
   ]
  },
  {
   "cell_type": "code",
   "execution_count": 15,
   "id": "848a352a-5011-44b8-9dce-d9726f7dda77",
   "metadata": {},
   "outputs": [
    {
     "data": {
      "text/plain": [
       "Don      False\n",
       "Mike      True\n",
       "Edwin     True\n",
       "dtype: bool"
      ]
     },
     "execution_count": 15,
     "metadata": {},
     "output_type": "execute_result"
    }
   ],
   "source": [
    "# You can filter based on conditions.\n",
    "Sales>500\n",
    "# This will usually return booleans."
   ]
  },
  {
   "cell_type": "code",
   "execution_count": 16,
   "id": "606807a3-d7a2-41f6-9dce-e43ca3f63b03",
   "metadata": {},
   "outputs": [
    {
     "data": {
      "text/plain": [
       "Mike     650\n",
       "Edwin    870\n",
       "dtype: int64"
      ]
     },
     "execution_count": 16,
     "metadata": {},
     "output_type": "execute_result"
    }
   ],
   "source": [
    "# We can use these booleans\n",
    "Sales[[False, True, True]]"
   ]
  },
  {
   "cell_type": "code",
   "execution_count": 17,
   "id": "dca72b1c-9d07-4799-a445-43942a995982",
   "metadata": {},
   "outputs": [
    {
     "data": {
      "text/plain": [
       "Mike     650\n",
       "Edwin    870\n",
       "dtype: int64"
      ]
     },
     "execution_count": 17,
     "metadata": {},
     "output_type": "execute_result"
    }
   ],
   "source": [
    "# If we want to see values greater than 500, we can use those booleans\n",
    "Sales[Sales>500]"
   ]
  },
  {
   "cell_type": "code",
   "execution_count": 18,
   "id": "55f5536f-2851-4331-b454-ad4d797f06bf",
   "metadata": {},
   "outputs": [
    {
     "data": {
      "text/plain": [
       "True"
      ]
     },
     "execution_count": 18,
     "metadata": {},
     "output_type": "execute_result"
    }
   ],
   "source": [
    "# Checking the names in the index\n",
    "\"Don\" in Sales"
   ]
  },
  {
   "cell_type": "code",
   "execution_count": 19,
   "id": "ebf062e9-d586-43f1-83db-d5b7a007e512",
   "metadata": {},
   "outputs": [
    {
     "data": {
      "text/plain": [
       "False"
      ]
     },
     "execution_count": 19,
     "metadata": {},
     "output_type": "execute_result"
    }
   ],
   "source": [
    "# False example\n",
    "\"Sally\" in Sales"
   ]
  },
  {
   "cell_type": "code",
   "execution_count": 22,
   "id": "9f95518c-313a-47fc-b3d6-7c8217ec21ef",
   "metadata": {},
   "outputs": [
    {
     "data": {
      "text/plain": [
       "False"
      ]
     },
     "execution_count": 22,
     "metadata": {},
     "output_type": "execute_result"
    }
   ],
   "source": [
    "# What about this?\n",
    "450 in Sales\n",
    "# 450 is not an index, it's a value. Thus, it will return False."
   ]
  },
  {
   "cell_type": "markdown",
   "id": "0afdee87-ab43-427a-88b7-dd2c9e53e975",
   "metadata": {},
   "source": [
    "### Working with Dictionaries"
   ]
  },
  {
   "cell_type": "code",
   "execution_count": 24,
   "id": "9b850ad4-4a69-431c-b3e6-8d1e5db9cb67",
   "metadata": {},
   "outputs": [
    {
     "data": {
      "text/plain": [
       "{'Don': 450, 'Mike': 650, 'Edwin': 870}"
      ]
     },
     "execution_count": 24,
     "metadata": {},
     "output_type": "execute_result"
    }
   ],
   "source": [
    "# Converting a Series to a dictionary\n",
    "sales_dict = Sales.to_dict()\n",
    "sales_dict"
   ]
  },
  {
   "cell_type": "code",
   "execution_count": 25,
   "id": "817f4a89-11f2-413b-b5b2-e4b826e9f6bf",
   "metadata": {},
   "outputs": [
    {
     "data": {
      "text/plain": [
       "Don      450\n",
       "Mike     650\n",
       "Edwin    870\n",
       "dtype: int64"
      ]
     },
     "execution_count": 25,
     "metadata": {},
     "output_type": "execute_result"
    }
   ],
   "source": [
    "# Converting a dict to a series\n",
    "sales_ser = Series(sales_dict)\n",
    "sales_ser"
   ]
  },
  {
   "cell_type": "markdown",
   "id": "4b652451-7a6e-4cd6-ba8f-e9d666cbab26",
   "metadata": {},
   "source": [
    "### Creating series from an existing one, and NaN values"
   ]
  },
  {
   "cell_type": "code",
   "execution_count": 27,
   "id": "9dea22f8-d106-4d11-bdb0-90ea8a555a69",
   "metadata": {},
   "outputs": [
    {
     "data": {
      "text/plain": [
       "Don      450.0\n",
       "Mike     650.0\n",
       "Sally      NaN\n",
       "Edwin    870.0\n",
       "lucy       NaN\n",
       "dtype: float64"
      ]
     },
     "execution_count": 27,
     "metadata": {},
     "output_type": "execute_result"
    }
   ],
   "source": [
    "# We can create a new Series from an existing Series\n",
    "# If we specify names in the index that were Not there already, NaN values will be assigned\n",
    "new_sales = Series(Sales, index=[\"Don\", \"Mike\", \"Sally\", \"Edwin\", \"lucy\"])\n",
    "new_sales"
   ]
  },
  {
   "cell_type": "code",
   "execution_count": 31,
   "id": "051179f0-f307-4daf-b55c-81a39f06dcc7",
   "metadata": {},
   "outputs": [
    {
     "data": {
      "text/plain": [
       "Don      False\n",
       "Mike     False\n",
       "Sally     True\n",
       "Edwin    False\n",
       "lucy      True\n",
       "dtype: bool"
      ]
     },
     "execution_count": 31,
     "metadata": {},
     "output_type": "execute_result"
    }
   ],
   "source": [
    "# We can check if there are any NaN values in a Series.\n",
    "# For this we use Numpy!\n",
    "np.isnan(new_sales)"
   ]
  },
  {
   "cell_type": "code",
   "execution_count": 32,
   "id": "83ee440e-1fdd-447f-8c26-7e1789e6a3a8",
   "metadata": {},
   "outputs": [
    {
     "data": {
      "text/plain": [
       "Don      False\n",
       "Mike     False\n",
       "Sally     True\n",
       "Edwin    False\n",
       "lucy      True\n",
       "dtype: bool"
      ]
     },
     "execution_count": 32,
     "metadata": {},
     "output_type": "execute_result"
    }
   ],
   "source": [
    "# To check for null values, use Pandas!\n",
    "pd.isnull(new_sales)"
   ]
  },
  {
   "cell_type": "markdown",
   "id": "80a02831-8959-4e55-9653-bad81dd9f6ef",
   "metadata": {},
   "source": [
    "### Naming components in a Series"
   ]
  },
  {
   "cell_type": "code",
   "execution_count": 35,
   "id": "45d2bf7c-59b2-4bfd-bc19-b0d8f74ef0b1",
   "metadata": {},
   "outputs": [
    {
     "data": {
      "text/plain": [
       "Sales person\n",
       "Don      450\n",
       "Mike     650\n",
       "Edwin    870\n",
       "dtype: int64"
      ]
     },
     "execution_count": 35,
     "metadata": {},
     "output_type": "execute_result"
    }
   ],
   "source": [
    "# Name an index\n",
    "Sales.index.name = \"Sales person\"\n",
    "Sales"
   ]
  },
  {
   "cell_type": "code",
   "execution_count": 37,
   "id": "22765a52-8658-4825-a128-8c23192e7a6e",
   "metadata": {},
   "outputs": [
    {
     "data": {
      "text/plain": [
       "Sales person\n",
       "Don      450\n",
       "Mike     650\n",
       "Edwin    870\n",
       "Name: Total tv sales, dtype: int64"
      ]
     },
     "execution_count": 37,
     "metadata": {},
     "output_type": "execute_result"
    }
   ],
   "source": [
    "# Naming a Series\n",
    "Sales.name = \"Total tv sales\"\n",
    "Sales"
   ]
  },
  {
   "cell_type": "markdown",
   "id": "34df30e8-a424-4540-9db7-da498eb01b90",
   "metadata": {},
   "source": [
    "## DataFrames\n",
    "\n",
    "DataFrames are two-dimensional, size-mutable (meaning that it can change), potentially heterogeneous (can have multiple data types) tabular data structures. This data structure contains TWO labeled axes (rows and the columns)."
   ]
  },
  {
   "cell_type": "markdown",
   "id": "962b009c-61fc-4bd1-96e9-c4974fae7242",
   "metadata": {},
   "source": [
    "### Creating a DataFrame"
   ]
  },
  {
   "cell_type": "code",
   "execution_count": 39,
   "id": "a7069a47-9853-440c-ba12-157cff5249a4",
   "metadata": {},
   "outputs": [
    {
     "data": {
      "text/html": [
       "<div>\n",
       "<style scoped>\n",
       "    .dataframe tbody tr th:only-of-type {\n",
       "        vertical-align: middle;\n",
       "    }\n",
       "\n",
       "    .dataframe tbody tr th {\n",
       "        vertical-align: top;\n",
       "    }\n",
       "\n",
       "    .dataframe thead th {\n",
       "        text-align: right;\n",
       "    }\n",
       "</style>\n",
       "<table border=\"1\" class=\"dataframe\">\n",
       "  <thead>\n",
       "    <tr style=\"text-align: right;\">\n",
       "      <th></th>\n",
       "      <th>Name</th>\n",
       "      <th>Age</th>\n",
       "    </tr>\n",
       "  </thead>\n",
       "  <tbody>\n",
       "    <tr>\n",
       "      <th>0</th>\n",
       "      <td>adrian</td>\n",
       "      <td>20</td>\n",
       "    </tr>\n",
       "    <tr>\n",
       "      <th>1</th>\n",
       "      <td>bethany</td>\n",
       "      <td>23</td>\n",
       "    </tr>\n",
       "    <tr>\n",
       "      <th>2</th>\n",
       "      <td>bob</td>\n",
       "      <td>33</td>\n",
       "    </tr>\n",
       "  </tbody>\n",
       "</table>\n",
       "</div>"
      ],
      "text/plain": [
       "      Name  Age\n",
       "0   adrian   20\n",
       "1  bethany   23\n",
       "2      bob   33"
      ]
     },
     "execution_count": 39,
     "metadata": {},
     "output_type": "execute_result"
    }
   ],
   "source": [
    "# Creating a DataFrame from a list\n",
    "data = [[\"adrian\", 20], [\"bethany\", 23], [\"bob\", 33]]\n",
    "\n",
    "# When we create a DataFrame, we can specify what the column names are and the data type is\n",
    "df = pd.DataFrame(data, columns=[\"Name\", \"Age\"])\n",
    "df"
   ]
  },
  {
   "cell_type": "markdown",
   "id": "a174a75b-1949-41e0-ad94-1924988a0692",
   "metadata": {},
   "source": [
    "### Creating a DataFrame from a dictionary"
   ]
  },
  {
   "cell_type": "code",
   "execution_count": 41,
   "id": "45867788-71f9-4c12-84e4-0d4439dab944",
   "metadata": {},
   "outputs": [
    {
     "name": "stdout",
     "output_type": "stream",
     "text": [
      "      Name  Age    City\n",
      "0    Alice   25  London\n",
      "1      Bob   30   Paris\n",
      "2  Charlie   35  Berlin\n"
     ]
    }
   ],
   "source": [
    "# Dictionary with lists as values\n",
    "dictlist = {\n",
    "    \"Name\": [\"Alice\", \"Bob\", \"Charlie\"],\n",
    "    \"Age\": [25, 30, 35],\n",
    "    \"City\": [\"London\", \"Paris\", \"Berlin\"]\n",
    "}\n",
    "\n",
    "# Create a DataFrame\n",
    "dfdict = pd.DataFrame(dictlist)\n",
    "\n",
    "# Display the DataFrame\n",
    "print(dfdict)"
   ]
  },
  {
   "cell_type": "code",
   "execution_count": 43,
   "id": "29f4158a-3771-40bb-92fb-f52d6a0aa146",
   "metadata": {},
   "outputs": [
    {
     "data": {
      "text/html": [
       "<div>\n",
       "<style scoped>\n",
       "    .dataframe tbody tr th:only-of-type {\n",
       "        vertical-align: middle;\n",
       "    }\n",
       "\n",
       "    .dataframe tbody tr th {\n",
       "        vertical-align: top;\n",
       "    }\n",
       "\n",
       "    .dataframe thead th {\n",
       "        text-align: right;\n",
       "    }\n",
       "</style>\n",
       "<table border=\"1\" class=\"dataframe\">\n",
       "  <thead>\n",
       "    <tr style=\"text-align: right;\">\n",
       "      <th></th>\n",
       "      <th>Name</th>\n",
       "      <th>Age</th>\n",
       "      <th>City</th>\n",
       "    </tr>\n",
       "  </thead>\n",
       "  <tbody>\n",
       "    <tr>\n",
       "      <th>Row1</th>\n",
       "      <td>Alice</td>\n",
       "      <td>25</td>\n",
       "      <td>London</td>\n",
       "    </tr>\n",
       "    <tr>\n",
       "      <th>Row2</th>\n",
       "      <td>Bob</td>\n",
       "      <td>30</td>\n",
       "      <td>Paris</td>\n",
       "    </tr>\n",
       "    <tr>\n",
       "      <th>Row3</th>\n",
       "      <td>Charlie</td>\n",
       "      <td>35</td>\n",
       "      <td>Berlin</td>\n",
       "    </tr>\n",
       "  </tbody>\n",
       "</table>\n",
       "</div>"
      ],
      "text/plain": [
       "         Name  Age    City\n",
       "Row1    Alice   25  London\n",
       "Row2      Bob   30   Paris\n",
       "Row3  Charlie   35  Berlin"
      ]
     },
     "execution_count": 43,
     "metadata": {},
     "output_type": "execute_result"
    }
   ],
   "source": [
    "# Adding custom indexes\n",
    "dfdict = pd.DataFrame(dictlist, index=[\"Row1\", \"Row2\", \"Row3\"])\n",
    "dfdict"
   ]
  },
  {
   "cell_type": "code",
   "execution_count": 45,
   "id": "91f98ea6-53d9-4c42-b343-dfb79f4d2113",
   "metadata": {},
   "outputs": [
    {
     "data": {
      "text/html": [
       "<div>\n",
       "<style scoped>\n",
       "    .dataframe tbody tr th:only-of-type {\n",
       "        vertical-align: middle;\n",
       "    }\n",
       "\n",
       "    .dataframe tbody tr th {\n",
       "        vertical-align: top;\n",
       "    }\n",
       "\n",
       "    .dataframe thead th {\n",
       "        text-align: right;\n",
       "    }\n",
       "</style>\n",
       "<table border=\"1\" class=\"dataframe\">\n",
       "  <thead>\n",
       "    <tr style=\"text-align: right;\">\n",
       "      <th></th>\n",
       "      <th>Name</th>\n",
       "      <th>Age</th>\n",
       "      <th>City</th>\n",
       "    </tr>\n",
       "  </thead>\n",
       "  <tbody>\n",
       "    <tr>\n",
       "      <th>0</th>\n",
       "      <td>Alice</td>\n",
       "      <td>25</td>\n",
       "      <td>London</td>\n",
       "    </tr>\n",
       "    <tr>\n",
       "      <th>1</th>\n",
       "      <td>Bob</td>\n",
       "      <td>30</td>\n",
       "      <td>Paris</td>\n",
       "    </tr>\n",
       "    <tr>\n",
       "      <th>2</th>\n",
       "      <td>Charlie</td>\n",
       "      <td>35</td>\n",
       "      <td>Berlin</td>\n",
       "    </tr>\n",
       "  </tbody>\n",
       "</table>\n",
       "</div>"
      ],
      "text/plain": [
       "      Name  Age    City\n",
       "0    Alice   25  London\n",
       "1      Bob   30   Paris\n",
       "2  Charlie   35  Berlin"
      ]
     },
     "execution_count": 45,
     "metadata": {},
     "output_type": "execute_result"
    }
   ],
   "source": [
    "# Creating a DataFrame from a list of dictionaries is the same principle\n",
    "dictlist = [\n",
    "    {\"Name\": \"Alice\", \"Age\": 25, \"City\": \"London\"},\n",
    "    {\"Name\": \"Bob\", \"Age\": 30, \"City\": \"Paris\"},\n",
    "    {\"Name\": \"Charlie\", \"Age\": 35, \"City\": \"Berlin\"}\n",
    "]\n",
    "dfdict = pd.DataFrame(dictlist)\n",
    "dfdict\n",
    "# Notice here no index was defined, hence automatic numbering and tabling."
   ]
  },
  {
   "cell_type": "code",
   "execution_count": 46,
   "id": "c356ed7a-70bc-4204-8d42-adf7b2a9ad13",
   "metadata": {},
   "outputs": [
    {
     "name": "stdout",
     "output_type": "stream",
     "text": [
      "   Values\n",
      "0      10\n",
      "1      20\n",
      "2      30\n",
      "3      40\n"
     ]
    }
   ],
   "source": [
    "# Creating a DataFrame form a Series\n",
    "# Create a Series\n",
    "s = pd.Series([10, 20, 30, 40], name=\"Values\")\n",
    "\n",
    "# Convert the Series into a DataFrame\n",
    "df = pd.DataFrame(s)\n",
    "\n",
    "print(df)"
   ]
  },
  {
   "cell_type": "code",
   "execution_count": 50,
   "id": "52f61467-0fef-4f81-980b-fcdf9f586139",
   "metadata": {},
   "outputs": [
    {
     "name": "stdout",
     "output_type": "stream",
     "text": [
      "   Values    City\n",
      "0      10  London\n",
      "1      20   Paris\n",
      "2      30  Berlin\n",
      "3      40  Beirut\n"
     ]
    }
   ],
   "source": [
    "# Adding Series to an existing DataFrame, this differs for column or row\n",
    "# As a new column:\n",
    "new_series = pd.Series([\"London\", \"Paris\", \"Berlin\", \"Beirut\"], name=\"City\")\n",
    "\n",
    "# Add the Series as a new column\n",
    "df[\"City\"] = new_series\n",
    "\n",
    "print(df)"
   ]
  },
  {
   "cell_type": "code",
   "execution_count": 53,
   "id": "c26c3105-b3a6-4de0-9ff2-03a504bfa701",
   "metadata": {},
   "outputs": [
    {
     "name": "stdout",
     "output_type": "stream",
     "text": [
      "      Name Age    City\n",
      "0    Alice  25  London\n",
      "1      Bob  30   Paris\n",
      "2  Charlie  35  Berlin\n",
      "3    David  40  Madrid\n"
     ]
    }
   ],
   "source": [
    "# As a new row:\n",
    "# Existing DataFrame\n",
    "df = pd.DataFrame({\n",
    "    \"Name\": [\"Alice\", \"Bob\", \"Charlie\"],\n",
    "    \"Age\": [25, 30, 35],\n",
    "    \"City\": [\"London\", \"Paris\", \"Berlin\"]\n",
    "})\n",
    "\n",
    "# New data as a Series\n",
    "new_row = pd.Series({\"Name\": \"David\", \"Age\": 40, \"City\": \"Madrid\"})\n",
    "\n",
    "# Add the Series as a new row using pd.concat()\n",
    "df = pd.concat([df, new_row.to_frame().T], ignore_index=True)\n",
    "\n",
    "# Display the updated DataFrame\n",
    "print(df)"
   ]
  },
  {
   "cell_type": "markdown",
   "id": "6004de36-3023-4ac7-b450-653df10aadc7",
   "metadata": {},
   "source": [
    "### Shifting/Changing a DataFrame's Index"
   ]
  },
  {
   "cell_type": "code",
   "execution_count": 57,
   "id": "e16c5905-cbf6-403b-820c-f8ba1fc0ca9d",
   "metadata": {},
   "outputs": [
    {
     "data": {
      "text/html": [
       "<div>\n",
       "<style scoped>\n",
       "    .dataframe tbody tr th:only-of-type {\n",
       "        vertical-align: middle;\n",
       "    }\n",
       "\n",
       "    .dataframe tbody tr th {\n",
       "        vertical-align: top;\n",
       "    }\n",
       "\n",
       "    .dataframe thead th {\n",
       "        text-align: right;\n",
       "    }\n",
       "</style>\n",
       "<table border=\"1\" class=\"dataframe\">\n",
       "  <thead>\n",
       "    <tr style=\"text-align: right;\">\n",
       "      <th></th>\n",
       "      <th>Age</th>\n",
       "      <th>City</th>\n",
       "    </tr>\n",
       "    <tr>\n",
       "      <th>Name</th>\n",
       "      <th></th>\n",
       "      <th></th>\n",
       "    </tr>\n",
       "  </thead>\n",
       "  <tbody>\n",
       "    <tr>\n",
       "      <th>Alice</th>\n",
       "      <td>25</td>\n",
       "      <td>London</td>\n",
       "    </tr>\n",
       "    <tr>\n",
       "      <th>Bob</th>\n",
       "      <td>30</td>\n",
       "      <td>Paris</td>\n",
       "    </tr>\n",
       "    <tr>\n",
       "      <th>Charlie</th>\n",
       "      <td>35</td>\n",
       "      <td>Berlin</td>\n",
       "    </tr>\n",
       "  </tbody>\n",
       "</table>\n",
       "</div>"
      ],
      "text/plain": [
       "         Age    City\n",
       "Name                \n",
       "Alice     25  London\n",
       "Bob       30   Paris\n",
       "Charlie   35  Berlin"
      ]
     },
     "execution_count": 57,
     "metadata": {},
     "output_type": "execute_result"
    }
   ],
   "source": [
    "# Make your DataFrame\n",
    "df = pd.DataFrame({\n",
    "    \"Name\": [\"Alice\", \"Bob\", \"Charlie\"],\n",
    "    \"Age\": [25, 30, 35],\n",
    "    \"City\": [\"London\", \"Paris\", \"Berlin\"]\n",
    "})\n",
    "\n",
    "# Set the \"Name\" column as the index through the following method\n",
    "df = df.set_index(\"Name\")\n",
    "df"
   ]
  },
  {
   "cell_type": "markdown",
   "id": "676724a4-fa5b-4578-af56-1b54f9918c64",
   "metadata": {},
   "source": [
    "### Filling missing values"
   ]
  },
  {
   "cell_type": "markdown",
   "id": "9a64cc92-d20c-4df3-8630-d592e6f50d32",
   "metadata": {},
   "source": [
    "You can use fillna() to fill missing values in your DataFrame or Series. By default, it allows you to:\n",
    "* Fill with a specific value.\n",
    "* Use methods like backfill or pad to propagate existing values."
   ]
  },
  {
   "cell_type": "code",
   "execution_count": 59,
   "id": "7d9f30db-7ee5-4faa-bade-d781a07e7df3",
   "metadata": {},
   "outputs": [
    {
     "data": {
      "text/html": [
       "<div>\n",
       "<style scoped>\n",
       "    .dataframe tbody tr th:only-of-type {\n",
       "        vertical-align: middle;\n",
       "    }\n",
       "\n",
       "    .dataframe tbody tr th {\n",
       "        vertical-align: top;\n",
       "    }\n",
       "\n",
       "    .dataframe thead th {\n",
       "        text-align: right;\n",
       "    }\n",
       "</style>\n",
       "<table border=\"1\" class=\"dataframe\">\n",
       "  <thead>\n",
       "    <tr style=\"text-align: right;\">\n",
       "      <th></th>\n",
       "      <th>A</th>\n",
       "      <th>B</th>\n",
       "    </tr>\n",
       "  </thead>\n",
       "  <tbody>\n",
       "    <tr>\n",
       "      <th>0</th>\n",
       "      <td>1.0</td>\n",
       "      <td>NaN</td>\n",
       "    </tr>\n",
       "    <tr>\n",
       "      <th>1</th>\n",
       "      <td>2.0</td>\n",
       "      <td>2.0</td>\n",
       "    </tr>\n",
       "    <tr>\n",
       "      <th>2</th>\n",
       "      <td>NaN</td>\n",
       "      <td>3.0</td>\n",
       "    </tr>\n",
       "    <tr>\n",
       "      <th>3</th>\n",
       "      <td>4.0</td>\n",
       "      <td>4.0</td>\n",
       "    </tr>\n",
       "  </tbody>\n",
       "</table>\n",
       "</div>"
      ],
      "text/plain": [
       "     A    B\n",
       "0  1.0  NaN\n",
       "1  2.0  2.0\n",
       "2  NaN  3.0\n",
       "3  4.0  4.0"
      ]
     },
     "execution_count": 59,
     "metadata": {},
     "output_type": "execute_result"
    }
   ],
   "source": [
    "# Example DataFrame with missing values\n",
    "df = pd.DataFrame({\n",
    "    \"A\": [1, 2, np.nan, 4],\n",
    "    \"B\": [np.nan, 2, 3, 4]\n",
    "})"
   ]
  },
  {
   "cell_type": "code",
   "execution_count": 60,
   "id": "aa3b9528-0c3b-457c-893a-58db8b22af62",
   "metadata": {},
   "outputs": [
    {
     "name": "stdout",
     "output_type": "stream",
     "text": [
      "     A    B\n",
      "0  1.0  0.0\n",
      "1  2.0  2.0\n",
      "2  0.0  3.0\n",
      "3  4.0  4.0\n"
     ]
    }
   ],
   "source": [
    "# Filling it with a chosen value:\n",
    "\n",
    "df_filled = df.fillna(0)\n",
    "\n",
    "print(df_filled)"
   ]
  },
  {
   "cell_type": "markdown",
   "id": "3712c83d-b2b0-406c-a99e-0bdd981ac037",
   "metadata": {},
   "source": [
    "If you don’t want to fill every column with the same value, you can pass a dictionary to fillna() specifying a value for each column."
   ]
  },
  {
   "cell_type": "code",
   "execution_count": 61,
   "id": "a9df277c-d64b-430a-a92f-df3cac30b73b",
   "metadata": {},
   "outputs": [
    {
     "name": "stdout",
     "output_type": "stream",
     "text": [
      "      A    B\n",
      "0   1.0  0.0\n",
      "1   2.0  2.0\n",
      "2  99.0  3.0\n",
      "3   4.0  4.0\n"
     ]
    }
   ],
   "source": [
    "# Fill missing values with different values for each column\n",
    "df_filled = df.fillna({\"A\": 99, \"B\": 0})\n",
    "\n",
    "print(df_filled)"
   ]
  },
  {
   "cell_type": "markdown",
   "id": "8bb022c5-7116-4576-ab9b-1fe5891fb010",
   "metadata": {},
   "source": [
    "backfill or bfill: These methods replace missing values with the next valid value in the column."
   ]
  },
  {
   "cell_type": "code",
   "execution_count": 62,
   "id": "40ce69d2-969c-49ad-9280-10b93a12af35",
   "metadata": {},
   "outputs": [
    {
     "name": "stdout",
     "output_type": "stream",
     "text": [
      "     A    B\n",
      "0  1.0  2.0\n",
      "1  2.0  2.0\n",
      "2  4.0  3.0\n",
      "3  4.0  4.0\n"
     ]
    },
    {
     "name": "stderr",
     "output_type": "stream",
     "text": [
      "C:\\Users\\tzork\\AppData\\Local\\Temp\\ipykernel_23148\\588379424.py:1: FutureWarning: DataFrame.fillna with 'method' is deprecated and will raise in a future version. Use obj.ffill() or obj.bfill() instead.\n",
      "  df_bfilled = df.fillna(method=\"bfill\")\n"
     ]
    }
   ],
   "source": [
    "df_bfilled = df.fillna(method=\"bfill\")\n",
    "\n",
    "print(df_bfilled)"
   ]
  },
  {
   "cell_type": "markdown",
   "id": "cf63cce7-3cec-4e91-9346-167dee5f518e",
   "metadata": {},
   "source": [
    "pad or ffill: These methods replace missing values with the previous valid value in the column."
   ]
  },
  {
   "cell_type": "code",
   "execution_count": 63,
   "id": "962c9459-9d48-43c3-8f85-b5de6e0fae08",
   "metadata": {},
   "outputs": [
    {
     "name": "stdout",
     "output_type": "stream",
     "text": [
      "     A    B\n",
      "0  1.0  NaN\n",
      "1  2.0  2.0\n",
      "2  2.0  3.0\n",
      "3  4.0  4.0\n"
     ]
    },
    {
     "name": "stderr",
     "output_type": "stream",
     "text": [
      "C:\\Users\\tzork\\AppData\\Local\\Temp\\ipykernel_23148\\2522535142.py:2: FutureWarning: DataFrame.fillna with 'method' is deprecated and will raise in a future version. Use obj.ffill() or obj.bfill() instead.\n",
      "  df_ffilled = df.fillna(method=\"ffill\")\n"
     ]
    }
   ],
   "source": [
    "# Forward fill missing values\n",
    "df_ffilled = df.fillna(method=\"ffill\")\n",
    "\n",
    "print(df_ffilled)"
   ]
  },
  {
   "cell_type": "markdown",
   "id": "039cb43b-117f-4771-8dd3-bdba1801aa62",
   "metadata": {},
   "source": [
    "As you can see, the forward fill didnt work for value B0 as there was no previous value for it to be filled with"
   ]
  },
  {
   "cell_type": "markdown",
   "id": "d2beda1c-b093-4fbf-8667-7b3e2ea7d842",
   "metadata": {},
   "source": [
    "You can use the limit parameter to restrict how many missing values are filled in sequence."
   ]
  },
  {
   "cell_type": "code",
   "execution_count": 64,
   "id": "fe3a0723-ece8-492e-b959-3cce50a10f0d",
   "metadata": {},
   "outputs": [
    {
     "name": "stdout",
     "output_type": "stream",
     "text": [
      "     A    B\n",
      "0  1.0  NaN\n",
      "1  2.0  2.0\n",
      "2  2.0  3.0\n",
      "3  4.0  4.0\n"
     ]
    },
    {
     "name": "stderr",
     "output_type": "stream",
     "text": [
      "C:\\Users\\tzork\\AppData\\Local\\Temp\\ipykernel_23148\\1895919300.py:2: FutureWarning: DataFrame.fillna with 'method' is deprecated and will raise in a future version. Use obj.ffill() or obj.bfill() instead.\n",
      "  df_limited = df.fillna(method=\"ffill\", limit=1)\n"
     ]
    }
   ],
   "source": [
    "# Forward fill but only fill one missing value per sequence\n",
    "df_limited = df.fillna(method=\"ffill\", limit=1)\n",
    "\n",
    "print(df_limited)"
   ]
  },
  {
   "cell_type": "markdown",
   "id": "68a4ce7f-2793-44ce-adce-d7df0a318c5e",
   "metadata": {},
   "source": [
    "### summary of filling methods"
   ]
  },
  {
   "cell_type": "code",
   "execution_count": 66,
   "id": "dde46fce-9ebf-49d7-ada8-3531e87beb5b",
   "metadata": {},
   "outputs": [
    {
     "name": "stdout",
     "output_type": "stream",
     "text": [
      "          Method                                        Description\n",
      "0  fillna(value)  Fill missing values with a specific value (e.g...\n",
      "1          bfill    Fill with the next valid value (backward fill).\n",
      "2       backfill                                     Same as bfill.\n",
      "3          ffill  Fill with the previous valid value (forward fi...\n",
      "4            pad                                     Same as ffill.\n",
      "5          limit  Restrict the number of consecutive missing val...\n"
     ]
    }
   ],
   "source": [
    "# Create a dictionary to represent the table\n",
    "data = {\n",
    "    \"Method\": [\"fillna(value)\", \"bfill\", \"backfill\", \"ffill\", \"pad\", \"limit\"],\n",
    "    \"Description\": [\n",
    "        \"Fill missing values with a specific value (e.g., 0, mean, etc.).\",\n",
    "        \"Fill with the next valid value (backward fill).\",\n",
    "        \"Same as bfill.\",\n",
    "        \"Fill with the previous valid value (forward fill).\",\n",
    "        \"Same as ffill.\",\n",
    "        \"Restrict the number of consecutive missing values to fill in a row or column.\"\n",
    "    ]\n",
    "}\n",
    "\n",
    "# Convert the dictionary into a pandas DataFrame\n",
    "methods_df = pd.DataFrame(data)\n",
    "\n",
    "# Display the DataFrame\n",
    "print(methods_df)"
   ]
  },
  {
   "cell_type": "markdown",
   "id": "2a8b86c8-27f0-4b27-b11d-91c0463ea914",
   "metadata": {},
   "source": [
    "### What does .interpolate() do?"
   ]
  },
  {
   "cell_type": "markdown",
   "id": "a844ca32-3c64-4619-9fc7-377c83ddaf5b",
   "metadata": {},
   "source": [
    "In Python 3, particularly in IPython kernel environments like Jupyter Notebook, .interpolate() is a method commonly used with pandas DataFrames and Series to fill in missing values by estimating them based on existing data."
   ]
  },
  {
   "cell_type": "markdown",
   "id": "cd064c44-1719-499e-b5ba-f964104c8ae6",
   "metadata": {},
   "source": [
    "basic syntax: df.interpolate(method='linear', axis=0, inplace=False, limit=None)"
   ]
  },
  {
   "cell_type": "code",
   "execution_count": 68,
   "id": "f728a8be-578c-4fdf-b674-94be2e6acb5e",
   "metadata": {},
   "outputs": [
    {
     "name": "stdout",
     "output_type": "stream",
     "text": [
      "     A\n",
      "0  1.0\n",
      "1  2.0\n",
      "2  3.0\n",
      "3  4.0\n",
      "4  5.0\n"
     ]
    }
   ],
   "source": [
    "# Create a DataFrame with missing values\n",
    "data = {'A': [1, np.nan, 3, np.nan, 5]}\n",
    "df = pd.DataFrame(data)\n",
    "\n",
    "# Interpolate missing values\n",
    "df_interpolated = df.interpolate()\n",
    "\n",
    "print(df_interpolated)"
   ]
  },
  {
   "cell_type": "markdown",
   "id": "23a4380f-7a6f-46fb-86d7-14c01d757c55",
   "metadata": {},
   "source": [
    "You can specify different interpolation methods such as quadratic, polynomial, nearest, etc.\n",
    "* Research these key different methods and try them out"
   ]
  },
  {
   "cell_type": "markdown",
   "id": "ec033f5e-0fec-4f9f-a413-acf331d02851",
   "metadata": {},
   "source": [
    "Key Parameters of .interpolate()\n",
    "* method='linear' (default) → Fills values in a straight-line fashion.\n",
    "* method='polynomial' → Fits a polynomial curve.\n",
    "* limit → Limits the number of consecutive NaNs to fill.\n",
    "* inplace=True → Modifies the DataFrame directly."
   ]
  },
  {
   "cell_type": "markdown",
   "id": "548b8eb3-5a64-45ec-b210-676bf2c3b26d",
   "metadata": {},
   "source": [
    "## Dropping values"
   ]
  },
  {
   "cell_type": "code",
   "execution_count": 73,
   "id": "adfe9821-c2af-4b47-a45e-a3481a22a169",
   "metadata": {},
   "outputs": [
    {
     "name": "stdout",
     "output_type": "stream",
     "text": [
      "   A  C\n",
      "0  1  7\n",
      "1  2  8\n",
      "2  3  9\n"
     ]
    }
   ],
   "source": [
    "#Drop a column\n",
    "df = pd.DataFrame({'A': [1, 2, 3], 'B': [4, 5, 6], 'C': [7, 8, 9]})\n",
    "\n",
    "# Drop column 'B'\n",
    "df = df.drop(columns=['B'])\n",
    "\n",
    "print(df)"
   ]
  },
  {
   "cell_type": "code",
   "execution_count": 74,
   "id": "e8935c20-1450-4034-9bf3-344af563ba28",
   "metadata": {},
   "outputs": [
    {
     "name": "stdout",
     "output_type": "stream",
     "text": [
      "   A  C\n",
      "1  2  8\n",
      "2  3  9\n"
     ]
    }
   ],
   "source": [
    "# Drop a row\n",
    "df = df.drop(index=[0])  # Drop row with index 0\n",
    "print(df)"
   ]
  },
  {
   "cell_type": "code",
   "execution_count": 75,
   "id": "76a5c374-630a-479c-b118-dac2a4ea0d4b",
   "metadata": {},
   "outputs": [
    {
     "name": "stdout",
     "output_type": "stream",
     "text": [
      "     A    B    C\n",
      "0  1.0  4.0  7.0\n"
     ]
    }
   ],
   "source": [
    "# Dropping based on a threshold\n",
    "# The thresh parameter drops rows/columns if they don’t have enough non-null values.\n",
    "df = pd.DataFrame({'A': [1, np.nan, 3], 'B': [4, np.nan, np.nan], 'C': [7, 8, np.nan]})\n",
    "\n",
    "# Drop rows that have **less than 2 non-null values**\n",
    "df = df.dropna(thresh=2)\n",
    "\n",
    "print(df)"
   ]
  },
  {
   "cell_type": "code",
   "execution_count": 77,
   "id": "adaf2484-153d-4a18-a454-fd4772986aa6",
   "metadata": {},
   "outputs": [
    {
     "name": "stdout",
     "output_type": "stream",
     "text": [
      "     A    B    C\n",
      "0  1.0  4.0  7.0\n",
      "1  NaN  NaN  8.0\n"
     ]
    }
   ],
   "source": [
    "# You can drop rows by their index values\n",
    "df = pd.DataFrame({'A': [1, np.nan, 3], 'B': [4, np.nan, np.nan], 'C': [7, 8, np.nan]})\n",
    "df = df.drop(index=[2])  # Drop row with index 2\n",
    "print(df)"
   ]
  },
  {
   "cell_type": "markdown",
   "id": "24476849-3da5-4feb-bdb3-ef23765aff49",
   "metadata": {},
   "source": [
    "## Finding and Removing Duplicate Rows in Pandas"
   ]
  },
  {
   "cell_type": "code",
   "execution_count": 78,
   "id": "e803ea8e-7863-4d99-9c82-e6503a6ec229",
   "metadata": {},
   "outputs": [
    {
     "name": "stdout",
     "output_type": "stream",
     "text": [
      "   A  B\n",
      "2  2  Y\n",
      "4  4  Z\n"
     ]
    }
   ],
   "source": [
    "# Use .duplicated() to check for duplicate rows.\n",
    "# Create a DataFrame with duplicate rows\n",
    "df = pd.DataFrame({\n",
    "    'A': [1, 2, 2, 4, 4],\n",
    "    'B': ['X', 'Y', 'Y', 'Z', 'Z']\n",
    "})\n",
    "\n",
    "# Find duplicate rows\n",
    "duplicates = df[df.duplicated()]\n",
    "\n",
    "print(duplicates)\n",
    "# By default, .duplicated() marks all but the first occurrence as duplicates."
   ]
  },
  {
   "cell_type": "code",
   "execution_count": 79,
   "id": "e862142f-a2df-4d06-a216-a05bbfc81769",
   "metadata": {},
   "outputs": [
    {
     "name": "stdout",
     "output_type": "stream",
     "text": [
      "   A  B\n",
      "0  1  X\n",
      "1  2  Y\n",
      "3  4  Z\n"
     ]
    }
   ],
   "source": [
    "# Use .drop_duplicates() to remove duplicates.\n",
    "df_unique = df.drop_duplicates()\n",
    "\n",
    "print(df_unique)"
   ]
  },
  {
   "cell_type": "code",
   "execution_count": 80,
   "id": "00202882-1761-4b7b-b9bd-182aec0d5229",
   "metadata": {},
   "outputs": [
    {
     "data": {
      "text/html": [
       "<div>\n",
       "<style scoped>\n",
       "    .dataframe tbody tr th:only-of-type {\n",
       "        vertical-align: middle;\n",
       "    }\n",
       "\n",
       "    .dataframe tbody tr th {\n",
       "        vertical-align: top;\n",
       "    }\n",
       "\n",
       "    .dataframe thead th {\n",
       "        text-align: right;\n",
       "    }\n",
       "</style>\n",
       "<table border=\"1\" class=\"dataframe\">\n",
       "  <thead>\n",
       "    <tr style=\"text-align: right;\">\n",
       "      <th></th>\n",
       "      <th>A</th>\n",
       "      <th>B</th>\n",
       "    </tr>\n",
       "  </thead>\n",
       "  <tbody>\n",
       "    <tr>\n",
       "      <th>1</th>\n",
       "      <td>2</td>\n",
       "      <td>Y</td>\n",
       "    </tr>\n",
       "    <tr>\n",
       "      <th>2</th>\n",
       "      <td>2</td>\n",
       "      <td>Y</td>\n",
       "    </tr>\n",
       "    <tr>\n",
       "      <th>3</th>\n",
       "      <td>4</td>\n",
       "      <td>Z</td>\n",
       "    </tr>\n",
       "    <tr>\n",
       "      <th>4</th>\n",
       "      <td>4</td>\n",
       "      <td>Z</td>\n",
       "    </tr>\n",
       "  </tbody>\n",
       "</table>\n",
       "</div>"
      ],
      "text/plain": [
       "   A  B\n",
       "1  2  Y\n",
       "2  2  Y\n",
       "3  4  Z\n",
       "4  4  Z"
      ]
     },
     "execution_count": 80,
     "metadata": {},
     "output_type": "execute_result"
    }
   ],
   "source": [
    "# If you want to check duplicates based on specific columns:\n",
    "df[df.duplicated(subset=['A'], keep=False)]"
   ]
  },
  {
   "cell_type": "markdown",
   "id": "667b05be-084f-4a28-a7a0-20d1afe659a2",
   "metadata": {},
   "source": [
    "For the above: \n",
    "* keep='first' → Keeps the first occurrence and marks the rest as duplicates.\n",
    "* keep='last' → Keeps the last occurrence.\n",
    "* keep=False → Marks all duplicates."
   ]
  },
  {
   "cell_type": "code",
   "execution_count": 82,
   "id": "e42d9b0e-87ff-41f8-b362-1541b96696f1",
   "metadata": {},
   "outputs": [
    {
     "data": {
      "text/html": [
       "<div>\n",
       "<style scoped>\n",
       "    .dataframe tbody tr th:only-of-type {\n",
       "        vertical-align: middle;\n",
       "    }\n",
       "\n",
       "    .dataframe tbody tr th {\n",
       "        vertical-align: top;\n",
       "    }\n",
       "\n",
       "    .dataframe thead th {\n",
       "        text-align: right;\n",
       "    }\n",
       "</style>\n",
       "<table border=\"1\" class=\"dataframe\">\n",
       "  <thead>\n",
       "    <tr style=\"text-align: right;\">\n",
       "      <th></th>\n",
       "      <th>A</th>\n",
       "      <th>B</th>\n",
       "    </tr>\n",
       "  </thead>\n",
       "  <tbody>\n",
       "    <tr>\n",
       "      <th>0</th>\n",
       "      <td>1</td>\n",
       "      <td>X</td>\n",
       "    </tr>\n",
       "    <tr>\n",
       "      <th>1</th>\n",
       "      <td>2</td>\n",
       "      <td>Y</td>\n",
       "    </tr>\n",
       "    <tr>\n",
       "      <th>3</th>\n",
       "      <td>4</td>\n",
       "      <td>Z</td>\n",
       "    </tr>\n",
       "  </tbody>\n",
       "</table>\n",
       "</div>"
      ],
      "text/plain": [
       "   A  B\n",
       "0  1  X\n",
       "1  2  Y\n",
       "3  4  Z"
      ]
     },
     "execution_count": 82,
     "metadata": {},
     "output_type": "execute_result"
    }
   ],
   "source": [
    "# Remove duplicates based on a specific column\n",
    "df_unique = df.drop_duplicates(subset=['A'])\n",
    "df_unique"
   ]
  },
  {
   "cell_type": "code",
   "execution_count": null,
   "id": "1b03f136-7e3f-4af2-9a19-ada7cff4bdb6",
   "metadata": {},
   "outputs": [],
   "source": []
  }
 ],
 "metadata": {
  "kernelspec": {
   "display_name": "Python 3 (ipykernel)",
   "language": "python",
   "name": "python3"
  },
  "language_info": {
   "codemirror_mode": {
    "name": "ipython",
    "version": 3
   },
   "file_extension": ".py",
   "mimetype": "text/x-python",
   "name": "python",
   "nbconvert_exporter": "python",
   "pygments_lexer": "ipython3",
   "version": "3.13.1"
  }
 },
 "nbformat": 4,
 "nbformat_minor": 5
}
